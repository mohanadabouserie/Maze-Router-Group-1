{
 "cells": [
  {
   "cell_type": "code",
   "execution_count": 2,
   "metadata": {},
   "outputs": [
    {
     "name": "stdout",
     "output_type": "stream",
     "text": [
      "Grid Dimensions (NxM): (100, 200)\n",
      "Bend Penalty: 20\n",
      "Via Penalty: 5\n",
      "Obstructions: [(0, 33, 44), (1, 55, 77)]\n",
      "Nets:\n",
      "  net1: [(1, 10, 20), (2, 30, 50), (1, 5, 100)]\n",
      "  net2: [(2, 100, 200), (1, 300, 50)]\n",
      "  net3: [(1, 100, 50), (2, 300, 150), (2, 50, 50), (1, 2, 2)]\n"
     ]
    }
   ],
   "source": [
    "import re\n",
    "\n",
    "# Global variables\n",
    "grid_dimensions = None\n",
    "bend_penalty = None\n",
    "via_penalty = None\n",
    "obstructions = []\n",
    "nets = {}\n",
    "\n",
    "# Function to parse the input file\n",
    "def parse_input_file(file_path):\n",
    "    global grid_dimensions, bend_penalty, via_penalty, obstructions, nets\n",
    "\n",
    "    with open(file_path, 'r') as file:\n",
    "        lines = file.readlines()\n",
    "\n",
    "    # Parse the grid dimensions and penalties\n",
    "    grid_info = list(map(int, lines[0].strip().split(',')))\n",
    "    grid_dimensions = (grid_info[0], grid_info[1])  # NxM grid\n",
    "    bend_penalty = grid_info[2]\n",
    "    via_penalty = grid_info[3]\n",
    "\n",
    "    # Parse the obstructions\n",
    "    for line in lines[1:]:\n",
    "        if line.startswith(\"OBS\"):\n",
    "            match = re.search(r\"\\((\\d+),\\s*(\\d+),\\s*(\\d+)\\)\", line)\n",
    "            if match:\n",
    "                obstructions.append((int(match.group(1)), int(match.group(2)), int(match.group(3))))\n",
    "    \n",
    "    # Parse the nets\n",
    "    for line in lines[1:]:\n",
    "        if line.startswith(\"net\"):\n",
    "            net_name = line.split(' ')[0]\n",
    "            net_points = re.findall(r\"\\((\\d+),\\s*(\\d+),\\s*(\\d+)\\)\", line)\n",
    "            nets[net_name] = [(int(layer), int(x), int(y)) for layer, x, y in net_points]\n",
    "\n",
    "# Test the function\n",
    "if __name__ == \"__main__\":\n",
    "    input_file = \"input.txt\"  # Replace with your input file path\n",
    "    parse_input_file(input_file)\n",
    "    \n",
    "    # Print the parsed data for verification\n",
    "    print(\"Grid Dimensions (NxM):\", grid_dimensions)\n",
    "    print(\"Bend Penalty:\", bend_penalty)\n",
    "    print(\"Via Penalty:\", via_penalty)\n",
    "    print(\"Obstructions:\", obstructions)\n",
    "    print(\"Nets:\")\n",
    "    for net, points in nets.items():\n",
    "        print(f\"  {net}: {points}\")\n"
   ]
  }
 ],
 "metadata": {
  "kernelspec": {
   "display_name": "Python 3",
   "language": "python",
   "name": "python3"
  },
  "language_info": {
   "codemirror_mode": {
    "name": "ipython",
    "version": 3
   },
   "file_extension": ".py",
   "mimetype": "text/x-python",
   "name": "python",
   "nbconvert_exporter": "python",
   "pygments_lexer": "ipython3",
   "version": "3.12.6"
  }
 },
 "nbformat": 4,
 "nbformat_minor": 2
}
